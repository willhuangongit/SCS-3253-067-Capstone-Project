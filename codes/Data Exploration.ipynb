{
 "cells": [
  {
   "cell_type": "markdown",
   "id": "72b1aff5",
   "metadata": {},
   "source": [
    "# Imports"
   ]
  },
  {
   "cell_type": "code",
   "execution_count": 1,
   "id": "0136c926",
   "metadata": {},
   "outputs": [],
   "source": [
    "import pandas as pd\n",
    "from datetime import date"
   ]
  },
  {
   "cell_type": "markdown",
   "id": "2e3275ca",
   "metadata": {},
   "source": [
    "# Load Data"
   ]
  },
  {
   "cell_type": "code",
   "execution_count": 3,
   "id": "bf5f0345",
   "metadata": {},
   "outputs": [],
   "source": [
    "transactions_df = pd.read_csv(\n",
    "    './data/synthetic_transactions.csv',\n",
    "    delimiter = ',',\n",
    "    header = 0\n",
    ")"
   ]
  },
  {
   "cell_type": "code",
   "execution_count": 2,
   "id": "d7721550",
   "metadata": {},
   "outputs": [],
   "source": [
    "alerts_df = pd.read_csv(\n",
    "    './data/synthetic_alerts.csv',\n",
    "    delimiter = ',',\n",
    "    header = 0\n",
    ")"
   ]
  },
  {
   "cell_type": "markdown",
   "id": "f2e82d7b",
   "metadata": {},
   "source": [
    "# Transform Data"
   ]
  },
  {
   "cell_type": "code",
   "execution_count": 7,
   "id": "3bea244c",
   "metadata": {},
   "outputs": [
    {
     "data": {
      "text/html": [
       "<div>\n",
       "<style scoped>\n",
       "    .dataframe tbody tr th:only-of-type {\n",
       "        vertical-align: middle;\n",
       "    }\n",
       "\n",
       "    .dataframe tbody tr th {\n",
       "        vertical-align: top;\n",
       "    }\n",
       "\n",
       "    .dataframe thead th {\n",
       "        text-align: right;\n",
       "    }\n",
       "</style>\n",
       "<table border=\"1\" class=\"dataframe\">\n",
       "  <thead>\n",
       "    <tr style=\"text-align: right;\">\n",
       "      <th></th>\n",
       "      <th>AlertID</th>\n",
       "      <th>Date</th>\n",
       "      <th>Outcome</th>\n",
       "    </tr>\n",
       "  </thead>\n",
       "  <tbody>\n",
       "    <tr>\n",
       "      <th>0</th>\n",
       "      <td>1</td>\n",
       "      <td>2020-01-01</td>\n",
       "      <td>Report</td>\n",
       "    </tr>\n",
       "    <tr>\n",
       "      <th>1</th>\n",
       "      <td>2</td>\n",
       "      <td>2020-01-01</td>\n",
       "      <td>Report</td>\n",
       "    </tr>\n",
       "    <tr>\n",
       "      <th>2</th>\n",
       "      <td>3</td>\n",
       "      <td>2020-01-01</td>\n",
       "      <td>Dismiss</td>\n",
       "    </tr>\n",
       "    <tr>\n",
       "      <th>3</th>\n",
       "      <td>4</td>\n",
       "      <td>2020-01-01</td>\n",
       "      <td>Dismiss</td>\n",
       "    </tr>\n",
       "    <tr>\n",
       "      <th>4</th>\n",
       "      <td>5</td>\n",
       "      <td>2020-01-01</td>\n",
       "      <td>Dismiss</td>\n",
       "    </tr>\n",
       "  </tbody>\n",
       "</table>\n",
       "</div>"
      ],
      "text/plain": [
       "   AlertID        Date  Outcome\n",
       "0        1  2020-01-01   Report\n",
       "1        2  2020-01-01   Report\n",
       "2        3  2020-01-01  Dismiss\n",
       "3        4  2020-01-01  Dismiss\n",
       "4        5  2020-01-01  Dismiss"
      ]
     },
     "execution_count": 7,
     "metadata": {},
     "output_type": "execute_result"
    }
   ],
   "source": [
    "alerts_df.head()"
   ]
  },
  {
   "cell_type": "code",
   "execution_count": 6,
   "id": "b1a13c89",
   "metadata": {},
   "outputs": [],
   "source": [
    "transactions_df = transactions_df.astype(\n",
    "    {\n",
    "        'AlertID': 'str',\n",
    "        'Timestamp': 'datetime64[ns]',\n",
    "        'Entry': 'str',\n",
    "        'Type': 'str',\n",
    "        'Size': 'float64',\n",
    "    }\n",
    ")"
   ]
  },
  {
   "cell_type": "code",
   "execution_count": 9,
   "id": "5d2eb131",
   "metadata": {},
   "outputs": [],
   "source": [
    "alerts_df = alerts_df.astype(\n",
    "    {\n",
    "        'bAlertID': 'str',\n",
    "        'Outcome': 'str',\n",
    "    }\n",
    ")"
   ]
  },
  {
   "cell_type": "code",
   "execution_count": 25,
   "id": "9573dd7c",
   "metadata": {
    "scrolled": true
   },
   "outputs": [],
   "source": [
    "alerts_df['Date'] = alerts_df['Date'].apply(date.fromisoformat)"
   ]
  },
  {
   "cell_type": "markdown",
   "id": "db4fb138",
   "metadata": {
    "scrolled": true
   },
   "source": [
    "# Explore Data"
   ]
  },
  {
   "cell_type": "code",
   "execution_count": 12,
   "id": "2e0e8267",
   "metadata": {},
   "outputs": [
    {
     "name": "stdout",
     "output_type": "stream",
     "text": [
      "<class 'pandas.core.frame.DataFrame'>\n",
      "RangeIndex: 16232955 entries, 0 to 16232954\n",
      "Data columns (total 5 columns):\n",
      " #   Column     Dtype         \n",
      "---  ------     -----         \n",
      " 0   AlertID    object        \n",
      " 1   Timestamp  datetime64[ns]\n",
      " 2   Entry      object        \n",
      " 3   Type       object        \n",
      " 4   Size       float64       \n",
      "dtypes: datetime64[ns](1), float64(1), object(3)\n",
      "memory usage: 619.2+ MB\n"
     ]
    }
   ],
   "source": [
    "transactions_df.info()"
   ]
  },
  {
   "cell_type": "code",
   "execution_count": 11,
   "id": "c88520ab",
   "metadata": {},
   "outputs": [
    {
     "name": "stdout",
     "output_type": "stream",
     "text": [
      "<class 'pandas.core.frame.DataFrame'>\n",
      "RangeIndex: 20000 entries, 0 to 19999\n",
      "Data columns (total 3 columns):\n",
      " #   Column   Non-Null Count  Dtype \n",
      "---  ------   --------------  ----- \n",
      " 0   AlertID  20000 non-null  object\n",
      " 1   Date     20000 non-null  object\n",
      " 2   Outcome  20000 non-null  object\n",
      "dtypes: object(3)\n",
      "memory usage: 468.9+ KB\n"
     ]
    }
   ],
   "source": [
    "alerts_df.info()"
   ]
  },
  {
   "cell_type": "code",
   "execution_count": 40,
   "id": "0d7db487",
   "metadata": {},
   "outputs": [
    {
     "data": {
      "text/plain": [
       "0"
      ]
     },
     "execution_count": 40,
     "metadata": {},
     "output_type": "execute_result"
    }
   ],
   "source": [
    "sum(transactions_df['AlertID'].isna())"
   ]
  },
  {
   "cell_type": "code",
   "execution_count": 41,
   "id": "20911477",
   "metadata": {},
   "outputs": [
    {
     "data": {
      "text/plain": [
       "0"
      ]
     },
     "execution_count": 41,
     "metadata": {},
     "output_type": "execute_result"
    }
   ],
   "source": [
    "sum(transactions_df['Timestamp'].isna())"
   ]
  },
  {
   "cell_type": "code",
   "execution_count": 42,
   "id": "0d058c55",
   "metadata": {},
   "outputs": [
    {
     "data": {
      "text/plain": [
       "0"
      ]
     },
     "execution_count": 42,
     "metadata": {},
     "output_type": "execute_result"
    }
   ],
   "source": [
    "sum(transactions_df['Entry'].isna())"
   ]
  },
  {
   "cell_type": "code",
   "execution_count": 43,
   "id": "1f1c3dd5",
   "metadata": {},
   "outputs": [
    {
     "data": {
      "text/plain": [
       "0"
      ]
     },
     "execution_count": 43,
     "metadata": {},
     "output_type": "execute_result"
    }
   ],
   "source": [
    "sum(transactions_df['Type'].isna())"
   ]
  },
  {
   "cell_type": "code",
   "execution_count": 44,
   "id": "53b443b3",
   "metadata": {},
   "outputs": [
    {
     "data": {
      "text/plain": [
       "0"
      ]
     },
     "execution_count": 44,
     "metadata": {},
     "output_type": "execute_result"
    }
   ],
   "source": [
    "sum(transactions_df['Size'].isna())"
   ]
  },
  {
   "cell_type": "code",
   "execution_count": null,
   "id": "e97a4656",
   "metadata": {},
   "outputs": [],
   "source": [
    "transactions_df.value_counts(['Entry', 'Type'], sort = True, dropna = False)"
   ]
  },
  {
   "cell_type": "code",
   "execution_count": 37,
   "id": "90cca1d3",
   "metadata": {},
   "outputs": [
    {
     "data": {
      "text/plain": [
       "AlertID  Date        Outcome\n",
       "1        2020-01-01  Report     1\n",
       "3996     2020-06-20  Report     1\n",
       "4000     2020-06-20  Dismiss    1\n",
       "400      2020-01-17  Report     1\n",
       "40       2020-01-02  Dismiss    1\n",
       "                               ..\n",
       "15999    2021-06-06  Dismiss    1\n",
       "15998    2021-06-06  Dismiss    1\n",
       "15997    2021-06-06  Dismiss    1\n",
       "15996    2021-06-06  Dismiss    1\n",
       "9999     2020-12-10  Report     1\n",
       "Name: count, Length: 20000, dtype: int64"
      ]
     },
     "execution_count": 37,
     "metadata": {},
     "output_type": "execute_result"
    }
   ],
   "source": [
    "alerts_df.value_counts(sort = True, dropna = False)"
   ]
  },
  {
   "cell_type": "code",
   "execution_count": 48,
   "id": "cc7e7517",
   "metadata": {},
   "outputs": [],
   "source": [
    "t_ids = set(transactions_df['AlertID'].unique())"
   ]
  },
  {
   "cell_type": "code",
   "execution_count": 49,
   "id": "983d188a",
   "metadata": {},
   "outputs": [],
   "source": [
    "a_ids = set(alerts_df['AlertID'].unique())"
   ]
  },
  {
   "cell_type": "code",
   "execution_count": 50,
   "id": "24197b84",
   "metadata": {},
   "outputs": [
    {
     "data": {
      "text/plain": [
       "set()"
      ]
     },
     "execution_count": 50,
     "metadata": {},
     "output_type": "execute_result"
    }
   ],
   "source": [
    "t_ids.difference(a_ids)"
   ]
  },
  {
   "cell_type": "code",
   "execution_count": 51,
   "id": "4e070b12",
   "metadata": {},
   "outputs": [
    {
     "data": {
      "text/plain": [
       "set()"
      ]
     },
     "execution_count": 51,
     "metadata": {},
     "output_type": "execute_result"
    }
   ],
   "source": [
    "a_ids.difference(t_ids)"
   ]
  },
  {
   "cell_type": "code",
   "execution_count": 56,
   "id": "2319ed1d",
   "metadata": {},
   "outputs": [
    {
     "data": {
      "text/plain": [
       "AlertID\n",
       "14393       1\n",
       "6416        1\n",
       "3257        1\n",
       "108         1\n",
       "14860       1\n",
       "         ... \n",
       "4341     2702\n",
       "7803     2719\n",
       "1215     2724\n",
       "6745     2871\n",
       "784      3009\n",
       "Length: 20000, dtype: int64"
      ]
     },
     "execution_count": 56,
     "metadata": {},
     "output_type": "execute_result"
    }
   ],
   "source": [
    "transactions_df.groupby('AlertID').size().sort_values()"
   ]
  },
  {
   "cell_type": "code",
   "execution_count": 58,
   "id": "fe8fb022",
   "metadata": {},
   "outputs": [],
   "source": [
    "outcome_counts = alerts_df['Outcome'].value_counts()"
   ]
  },
  {
   "cell_type": "code",
   "execution_count": 60,
   "id": "a39e949d",
   "metadata": {},
   "outputs": [
    {
     "data": {
      "text/plain": [
       "Outcome\n",
       "Dismiss    16565\n",
       "Report      3435\n",
       "Name: count, dtype: int64"
      ]
     },
     "execution_count": 60,
     "metadata": {},
     "output_type": "execute_result"
    }
   ],
   "source": [
    "outcome_counts"
   ]
  },
  {
   "cell_type": "code",
   "execution_count": 61,
   "id": "ea0c96fe",
   "metadata": {},
   "outputs": [
    {
     "data": {
      "text/plain": [
       "Outcome\n",
       "Dismiss    0.82825\n",
       "Report     0.17175\n",
       "Name: count, dtype: float64"
      ]
     },
     "execution_count": 61,
     "metadata": {},
     "output_type": "execute_result"
    }
   ],
   "source": [
    "outcome_counts / outcome_counts.sum()"
   ]
  }
 ],
 "metadata": {
  "kernelspec": {
   "display_name": "Python 3 (ipykernel)",
   "language": "python",
   "name": "python3"
  },
  "language_info": {
   "codemirror_mode": {
    "name": "ipython",
    "version": 3
   },
   "file_extension": ".py",
   "mimetype": "text/x-python",
   "name": "python",
   "nbconvert_exporter": "python",
   "pygments_lexer": "ipython3",
   "version": "3.10.10"
  }
 },
 "nbformat": 4,
 "nbformat_minor": 5
}
